{
 "cells": [
  {
   "cell_type": "code",
   "execution_count": 155,
   "metadata": {},
   "outputs": [
    {
     "name": "stdout",
     "output_type": "stream",
     "text": [
      "env: GOOGLE_APPLICATION_CREDENTIALS=\"/Users/nathanwong/Desktop/FoodCampus-f38ced1dcb50.json\"\n"
     ]
    }
   ],
   "source": [
    "import os\n",
    "import numpy as np\n",
    "import pandas as pd\n",
    "import json\n",
    "\n",
    "%env GOOGLE_APPLICATION_CREDENTIALS \"/Users/nathanwong/Desktop/FoodCampus-f38ced1dcb50.json\"\n"
   ]
  },
  {
   "cell_type": "code",
   "execution_count": 158,
   "metadata": {},
   "outputs": [
    {
     "ename": "AttributeError",
     "evalue": "module 'google.cloud.firestore' has no attribute 'client'",
     "output_type": "error",
     "traceback": [
      "\u001b[0;31m---------------------------------------------------------------------------\u001b[0m",
      "\u001b[0;31mAttributeError\u001b[0m                            Traceback (most recent call last)",
      "\u001b[0;32m<ipython-input-158-55e29fa999e3>\u001b[0m in \u001b[0;36m<module>\u001b[0;34m\u001b[0m\n\u001b[1;32m      2\u001b[0m \u001b[0;34m\u001b[0m\u001b[0m\n\u001b[1;32m      3\u001b[0m \u001b[0;31m# Project ID is determined by the GCLOUD_PROJECT environment variable\u001b[0m\u001b[0;34m\u001b[0m\u001b[0;34m\u001b[0m\u001b[0m\n\u001b[0;32m----> 4\u001b[0;31m \u001b[0mdb\u001b[0m \u001b[0;34m=\u001b[0m \u001b[0mfirestore\u001b[0m\u001b[0;34m.\u001b[0m\u001b[0mclient\u001b[0m\u001b[0;34m(\u001b[0m\u001b[0;34m)\u001b[0m\u001b[0;34m\u001b[0m\u001b[0m\n\u001b[0m",
      "\u001b[0;31mAttributeError\u001b[0m: module 'google.cloud.firestore' has no attribute 'client'"
     ]
    }
   ],
   "source": [
    "from google.cloud import firestore\n",
    "\n",
    "# Project ID is determined by the GCLOUD_PROJECT environment variable\n",
    "help(firestore)\n",
    "db = firestore.client()"
   ]
  },
  {
   "cell_type": "code",
   "execution_count": 154,
   "metadata": {},
   "outputs": [
    {
     "ename": "ValueError",
     "evalue": "The default Firebase app already exists. This means you called initialize_app() more than once without providing an app name as the second argument. In most cases you only need to call initialize_app() once. But if you do want to initialize multiple apps, pass a second argument to initialize_app() to give each app a unique name.",
     "output_type": "error",
     "traceback": [
      "\u001b[0;31m---------------------------------------------------------------------------\u001b[0m",
      "\u001b[0;31mValueError\u001b[0m                                Traceback (most recent call last)",
      "\u001b[0;32m<ipython-input-154-9f8d91535b56>\u001b[0m in \u001b[0;36m<module>\u001b[0;34m\u001b[0m\n\u001b[1;32m      4\u001b[0m \u001b[0mcred\u001b[0m\u001b[0;34m=\u001b[0m\u001b[0mcredentials\u001b[0m\u001b[0;34m.\u001b[0m\u001b[0mCertificate\u001b[0m\u001b[0;34m(\u001b[0m\u001b[0;34m'/Users/nathanwong/Desktop/FoodCampus-f38ced1dcb50.json'\u001b[0m\u001b[0;34m)\u001b[0m\u001b[0;34m\u001b[0m\u001b[0m\n\u001b[1;32m      5\u001b[0m firebase_admin.initialize_app(cred, {\n\u001b[0;32m----> 6\u001b[0;31m     \u001b[0;34m'storageBucket'\u001b[0m\u001b[0;34m:\u001b[0m \u001b[0;34m'foodcampus.appspot.com'\u001b[0m\u001b[0;34m\u001b[0m\u001b[0m\n\u001b[0m\u001b[1;32m      7\u001b[0m })\n\u001b[1;32m      8\u001b[0m \u001b[0mdb\u001b[0m \u001b[0;34m=\u001b[0m \u001b[0mfirestore\u001b[0m\u001b[0;34m.\u001b[0m\u001b[0mclient\u001b[0m\u001b[0;34m(\u001b[0m\u001b[0;34m)\u001b[0m\u001b[0;34m\u001b[0m\u001b[0m\n",
      "\u001b[0;32m~/Downloads/yes/envs/nathan/lib/python3.7/site-packages/firebase_admin/__init__.py\u001b[0m in \u001b[0;36minitialize_app\u001b[0;34m(credential, options, name)\u001b[0m\n\u001b[1;32m     72\u001b[0m     \u001b[0;32mif\u001b[0m \u001b[0mname\u001b[0m \u001b[0;34m==\u001b[0m \u001b[0m_DEFAULT_APP_NAME\u001b[0m\u001b[0;34m:\u001b[0m\u001b[0;34m\u001b[0m\u001b[0m\n\u001b[1;32m     73\u001b[0m         raise ValueError((\n\u001b[0;32m---> 74\u001b[0;31m             \u001b[0;34m'The default Firebase app already exists. This means you called '\u001b[0m\u001b[0;34m\u001b[0m\u001b[0m\n\u001b[0m\u001b[1;32m     75\u001b[0m             \u001b[0;34m'initialize_app() more than once without providing an app name as '\u001b[0m\u001b[0;34m\u001b[0m\u001b[0m\n\u001b[1;32m     76\u001b[0m             \u001b[0;34m'the second argument. In most cases you only need to call '\u001b[0m\u001b[0;34m\u001b[0m\u001b[0m\n",
      "\u001b[0;31mValueError\u001b[0m: The default Firebase app already exists. This means you called initialize_app() more than once without providing an app name as the second argument. In most cases you only need to call initialize_app() once. But if you do want to initialize multiple apps, pass a second argument to initialize_app() to give each app a unique name."
     ]
    }
   ],
   "source": [
    "import firebase_admin\n",
    "from firebase_admin import credentials, firestore, storage\n",
    "\n",
    "cred=credentials.Certificate('/Users/nathanwong/Desktop/FoodCampus-f38ced1dcb50.json')\n",
    "firebase_admin.initialize_app(cred, {\n",
    "    'storageBucket': 'foodcampus.appspot.com'\n",
    "})\n",
    "db = firestore.client()\n",
    "bucket = storage.bucket()\n",
    "blob = bucket.blob('hello.txt')\n",
    "outfile='./hello.txt'\n",
    "blob.upload_from_filename(outfile)"
   ]
  },
  {
   "cell_type": "code",
   "execution_count": 26,
   "metadata": {},
   "outputs": [],
   "source": [
    "db = firestore.client()\n",
    "bucket = storage.bucket()\n",
    "blob = bucket.blob('Practice/hello.txt')\n",
    "outfile='./hello.txt'\n",
    "blob.upload_from_filename(outfile)"
   ]
  },
  {
   "cell_type": "code",
   "execution_count": 82,
   "metadata": {},
   "outputs": [],
   "source": [
    "import csv\n",
    "import firebase_admin\n",
    "import google.cloud\n",
    "from firebase_admin import credentials, firestore\n",
    "\n",
    "def batch_data(iterable, n=1):\n",
    "    l = len(iterable)\n",
    "    for ndx in range(0, l, n):\n",
    "        yield iterable[ndx:min(ndx + n, l)]\n",
    "\n",
    "def main():\n",
    "    # Init Firebase\n",
    "    store = firestore.client()\n",
    "    collection_name = \"restaurants\"\n",
    "\n",
    "    # Init Parsing\n",
    "    data = []\n",
    "    headers = []\n",
    "    file_path = os.path.join(\"./Restaurant Data\", \"restaurants_menu.csv\")\n",
    "\n",
    "    # Parse\n",
    "    with open(file_path) as csv_file:\n",
    "        csv_reader = csv.reader(csv_file, delimiter=',')\n",
    "        line_count = 0\n",
    "        for row in csv_reader:\n",
    "            if line_count == 0:\n",
    "                for header in row:\n",
    "                    headers.append(header)\n",
    "                line_count += 1\n",
    "            else:\n",
    "                obj = {}\n",
    "                for idx, item in enumerate(row):\n",
    "                    obj[headers[idx]] = item\n",
    "                data.append(obj)\n",
    "                line_count += 1\n",
    "        print('Processed {line_count} lines.')\n",
    "\n",
    "    for batched_data in batch_data(data, 499):\n",
    "        batch = store.batch()\n",
    "        for data_item in batched_data:\n",
    "            doc_ref = store.collection(collection_name).document(data_item['\\ufeffname'])\n",
    "            sub_tree = doc_ref.collection(\"Items\").document(data_item['item'])\n",
    "            print(data_item, doc_ref)\n",
    "            batch.set(sub_tree, data_item)\n",
    "        batch.commit()\n",
    "\n",
    "    print('Done')"
   ]
  },
  {
   "cell_type": "code",
   "execution_count": 84,
   "metadata": {},
   "outputs": [
    {
     "name": "stdout",
     "output_type": "stream",
     "text": [
      "Processed {line_count} lines.\n",
      "{'\\ufeffname': \"Gypsy's Trattoria Italiana\", 'item': 'Crazy Alfredo', 'cash_price': '10.49', 'credit_price': '10.99', 'popularity': '8', 'options': ''} <google.cloud.firestore_v1.document.DocumentReference object at 0x10c202c18>\n",
      "{'\\ufeffname': \"Gypsy's Trattoria Italiana\", 'item': 'Melanzana Con Pollo', 'cash_price': '10.49', 'credit_price': '10.99', 'popularity': '9', 'options': ''} <google.cloud.firestore_v1.document.DocumentReference object at 0x10c202d68>\n",
      "{'\\ufeffname': \"Gypsy's Trattoria Italiana\", 'item': \"Godfather's favorite\", 'cash_price': '10.49', 'credit_price': '10.99', 'popularity': '10', 'options': ''} <google.cloud.firestore_v1.document.DocumentReference object at 0x10c202dd8>\n",
      "{'\\ufeffname': \"Gypsy's Trattoria Italiana\", 'item': \"Gypsy's Chicken\", 'cash_price': '10.49', 'credit_price': '10.99', 'popularity': '8', 'options': ''} <google.cloud.firestore_v1.document.DocumentReference object at 0x10c202e48>\n",
      "{'\\ufeffname': \"Gypsy's Trattoria Italiana\", 'item': 'Pollo Con Pesto', 'cash_price': '10.49', 'credit_price': '10.99', 'popularity': '8', 'options': ''} <google.cloud.firestore_v1.document.DocumentReference object at 0x10c202e80>\n",
      "{'\\ufeffname': \"Gypsy's Trattoria Italiana\", 'item': 'Chicken Gnocchi', 'cash_price': '10.49', 'credit_price': '10.99', 'popularity': '7', 'options': ''} <google.cloud.firestore_v1.document.DocumentReference object at 0x10c202cf8>\n",
      "{'\\ufeffname': \"Gypsy's Trattoria Italiana\", 'item': 'Spaghetti with Meatballs', 'cash_price': '9.49', 'credit_price': '9.99', 'popularity': '6', 'options': ''} <google.cloud.firestore_v1.document.DocumentReference object at 0x10c202c18>\n",
      "{'\\ufeffname': \"Gypsy's Trattoria Italiana\", 'item': 'Lasagna', 'cash_price': '10.49', 'credit_price': '10.99', 'popularity': '5', 'options': ''} <google.cloud.firestore_v1.document.DocumentReference object at 0x10c202d68>\n",
      "{'\\ufeffname': \"Gypsy's Trattoria Italiana\", 'item': 'Linguine Clams (Cream Or Tomato Sauce)', 'cash_price': '9.99', 'credit_price': '10.49', 'popularity': '7', 'options': ''} <google.cloud.firestore_v1.document.DocumentReference object at 0x10c202da0>\n",
      "{'\\ufeffname': \"Gypsy's Trattoria Italiana\", 'item': 'Shrimp Alfredo', 'cash_price': '9.99', 'credit_price': '10.49', 'popularity': '4', 'options': ''} <google.cloud.firestore_v1.document.DocumentReference object at 0x10c202e48>\n",
      "{'\\ufeffname': \"Gypsy's Trattoria Italiana\", 'item': 'Ravioli Alfredo', 'cash_price': '8.49', 'credit_price': '8.99', 'popularity': '4', 'options': ''} <google.cloud.firestore_v1.document.DocumentReference object at 0x10c202e80>\n",
      "{'\\ufeffname': \"Gypsy's Trattoria Italiana\", 'item': 'Funghi', 'cash_price': '8.49', 'credit_price': '8.99', 'popularity': '3', 'options': ''} <google.cloud.firestore_v1.document.DocumentReference object at 0x10c202cc0>\n",
      "{'\\ufeffname': \"Gypsy's Trattoria Italiana\", 'item': 'Fettuccine Alfredo', 'cash_price': '8.49', 'credit_price': '8.99', 'popularity': '2', 'options': ''} <google.cloud.firestore_v1.document.DocumentReference object at 0x10c202be0>\n",
      "{'\\ufeffname': \"Gypsy's Trattoria Italiana\", 'item': \"Margarita 10'' Pizza\", 'cash_price': '7.99', 'credit_price': '8.49', 'popularity': '1', 'options': ''} <google.cloud.firestore_v1.document.DocumentReference object at 0x10c202c88>\n",
      "{'\\ufeffname': \"Gypsy's Trattoria Italiana\", 'item': 'Pollo Calzone', 'cash_price': '8.49', 'credit_price': '9.49', 'popularity': '8', 'options': ''} <google.cloud.firestore_v1.document.DocumentReference object at 0x10c202da0>\n",
      "{'\\ufeffname': \"Gypsy's Trattoria Italiana\", 'item': 'Combo Calzone', 'cash_price': '9.49', 'credit_price': '9.49', 'popularity': '8', 'options': ''} <google.cloud.firestore_v1.document.DocumentReference object at 0x10c202dd8>\n",
      "{'\\ufeffname': \"Gypsy's Trattoria Italiana\", 'item': 'Caesar Salad', 'cash_price': '5.99', 'credit_price': '6.49', 'popularity': '1', 'options': ''} <google.cloud.firestore_v1.document.DocumentReference object at 0x10c202c18>\n",
      "{'\\ufeffname': 'Taco Sinaloa', 'item': 'Tacos', 'cash_price': '2', 'credit_price': '2', 'popularity': '9', 'options': ''} <google.cloud.firestore_v1.document.DocumentReference object at 0x10c202cf8>\n",
      "{'\\ufeffname': 'Taco Sinaloa', 'item': 'Burrito', 'cash_price': '8.5', 'credit_price': '8.5', 'popularity': '7', 'options': ''} <google.cloud.firestore_v1.document.DocumentReference object at 0x10c202eb8>\n",
      "{'\\ufeffname': 'Taco Sinaloa', 'item': 'Breakfast Burrito', 'cash_price': '9', 'credit_price': '9', 'popularity': '5', 'options': ''} <google.cloud.firestore_v1.document.DocumentReference object at 0x10c202cc0>\n",
      "{'\\ufeffname': 'Taco Sinaloa', 'item': 'Super Burrito', 'cash_price': '14', 'credit_price': '14', 'popularity': '6', 'options': ''} <google.cloud.firestore_v1.document.DocumentReference object at 0x10c202da0>\n",
      "{'\\ufeffname': 'Taco Sinaloa', 'item': 'Burrito Bowl', 'cash_price': '9', 'credit_price': '9', 'popularity': '6', 'options': ''} <google.cloud.firestore_v1.document.DocumentReference object at 0x10c202d30>\n",
      "{'\\ufeffname': 'Taco Sinaloa', 'item': 'Tostada', 'cash_price': '6', 'credit_price': '6', 'popularity': '4', 'options': ''} <google.cloud.firestore_v1.document.DocumentReference object at 0x10c202e48>\n",
      "{'\\ufeffname': 'Taco Sinaloa', 'item': 'Torta', 'cash_price': '8', 'credit_price': '8', 'popularity': '4', 'options': ''} <google.cloud.firestore_v1.document.DocumentReference object at 0x10c202c50>\n",
      "{'\\ufeffname': 'Taco Sinaloa', 'item': 'Quesadilla de Carne', 'cash_price': '8.5', 'credit_price': '8.5', 'popularity': '4', 'options': ''} <google.cloud.firestore_v1.document.DocumentReference object at 0x10c202c88>\n",
      "{'\\ufeffname': 'Taco Sinaloa', 'item': 'Veggie Tacos', 'cash_price': '2.5', 'credit_price': '2.5', 'popularity': '3', 'options': ''} <google.cloud.firestore_v1.document.DocumentReference object at 0x10c202cc0>\n",
      "{'\\ufeffname': 'Taco Sinaloa', 'item': 'Veggie Burrito', 'cash_price': '8', 'credit_price': '8', 'popularity': '3', 'options': ''} <google.cloud.firestore_v1.document.DocumentReference object at 0x10c202cf8>\n",
      "{'\\ufeffname': 'Taco Sinaloa', 'item': 'Can Sodas', 'cash_price': '1.25', 'credit_price': '1.25', 'popularity': '3', 'options': ''} <google.cloud.firestore_v1.document.DocumentReference object at 0x10c202eb8>\n",
      "{'\\ufeffname': 'Taco Sinaloa', 'item': 'Jarritos', 'cash_price': '2.5', 'credit_price': '2.5', 'popularity': '3', 'options': ''} <google.cloud.firestore_v1.document.DocumentReference object at 0x10c202d30>\n",
      "{'\\ufeffname': 'Taco Sinaloa', 'item': 'Bottled Water', 'cash_price': '1', 'credit_price': '1', 'popularity': '3', 'options': ''} <google.cloud.firestore_v1.document.DocumentReference object at 0x10c202c18>\n",
      "{'\\ufeffname': 'Taco Sinaloa', 'item': 'Aguas Frescas - Jamaica (S)', 'cash_price': '2.5', 'credit_price': '2.5', 'popularity': '7', 'options': ''} <google.cloud.firestore_v1.document.DocumentReference object at 0x10c202c88>\n",
      "{'\\ufeffname': 'Taco Sinaloa', 'item': 'Aguas Frescas - Horchata (S)', 'cash_price': '2.5', 'credit_price': '2.5', 'popularity': '7', 'options': ''} <google.cloud.firestore_v1.document.DocumentReference object at 0x10c202cc0>\n",
      "{'\\ufeffname': 'Taco Sinaloa', 'item': 'Aguas Frescas - Strawberry Horchata (S)', 'cash_price': '2.5', 'credit_price': '2.5', 'popularity': '7', 'options': ''} <google.cloud.firestore_v1.document.DocumentReference object at 0x10c202cf8>\n",
      "{'\\ufeffname': 'Taco Sinaloa', 'item': 'Aguas Frescas - Jamaica (L)', 'cash_price': '4', 'credit_price': '4', 'popularity': '6', 'options': ''} <google.cloud.firestore_v1.document.DocumentReference object at 0x10c202eb8>\n",
      "{'\\ufeffname': 'Taco Sinaloa', 'item': 'Aguas Frescas - Horchata (L)', 'cash_price': '4', 'credit_price': '4', 'popularity': '6', 'options': ''} <google.cloud.firestore_v1.document.DocumentReference object at 0x10c202d30>\n",
      "{'\\ufeffname': 'Taco Sinaloa', 'item': 'Aguas Frescas - Strawberry Horchata (L)', 'cash_price': '4', 'credit_price': '4', 'popularity': '6', 'options': ''} <google.cloud.firestore_v1.document.DocumentReference object at 0x10c202c18>\n",
      "{'\\ufeffname': 'Thai Basil', 'item': 'Green Curry Chicken', 'cash_price': '7.99', 'credit_price': '', 'popularity': '6', 'options': ''} <google.cloud.firestore_v1.document.DocumentReference object at 0x10c202c88>\n",
      "{'\\ufeffname': 'Thai Basil', 'item': 'Red Curry Chicken', 'cash_price': '7.99', 'credit_price': '', 'popularity': '7', 'options': ''} <google.cloud.firestore_v1.document.DocumentReference object at 0x10c202cc0>\n",
      "{'\\ufeffname': 'Thai Basil', 'item': 'Yellow Curry Chicken', 'cash_price': '7.99', 'credit_price': '', 'popularity': '6', 'options': ''} <google.cloud.firestore_v1.document.DocumentReference object at 0x10c202cf8>\n",
      "{'\\ufeffname': 'Thai Basil', 'item': 'Panang Curry Chicken', 'cash_price': '7.99', 'credit_price': '', 'popularity': '7', 'options': ''} <google.cloud.firestore_v1.document.DocumentReference object at 0x10c202eb8>\n",
      "{'\\ufeffname': 'Thai Basil', 'item': 'Pad Thai', 'cash_price': '8.22', 'credit_price': '', 'popularity': '8', 'options': ''} <google.cloud.firestore_v1.document.DocumentReference object at 0x10c202d30>\n",
      "{'\\ufeffname': 'Thai Basil', 'item': 'Pad See-ew Chicken', 'cash_price': '7.77', 'credit_price': '', 'popularity': '8', 'options': ''} <google.cloud.firestore_v1.document.DocumentReference object at 0x10c202c18>\n",
      "{'\\ufeffname': 'Thai Basil', 'item': 'Tom-Yum (Chicken or Vegetable)', 'cash_price': '6.4', 'credit_price': '', 'popularity': '7', 'options': ''} <google.cloud.firestore_v1.document.DocumentReference object at 0x10c202c88>\n",
      "{'\\ufeffname': 'Thai Basil', 'item': 'Combination Fried Rice', 'cash_price': '8.88', 'credit_price': '', 'popularity': '6', 'options': ''} <google.cloud.firestore_v1.document.DocumentReference object at 0x10c202cc0>\n",
      "{'\\ufeffname': 'Thai Basil', 'item': 'Red Curry Tofu', 'cash_price': '7.99', 'credit_price': '', 'popularity': '7', 'options': ''} <google.cloud.firestore_v1.document.DocumentReference object at 0x10c202cf8>\n",
      "{'\\ufeffname': 'Thai Basil', 'item': 'Sweet and Sour Tofu', 'cash_price': '7.54', 'credit_price': '', 'popularity': '4', 'options': ''} <google.cloud.firestore_v1.document.DocumentReference object at 0x10c202eb8>\n",
      "{'\\ufeffname': 'Thai Basil', 'item': 'Pepper Garlic Chicken', 'cash_price': '8.45', 'credit_price': '', 'popularity': '5', 'options': ''} <google.cloud.firestore_v1.document.DocumentReference object at 0x10c202d30>\n",
      "{'\\ufeffname': 'Thai Basil', 'item': 'Pepper Garlic Prawns', 'cash_price': '9.59', 'credit_price': '', 'popularity': '6', 'options': ''} <google.cloud.firestore_v1.document.DocumentReference object at 0x10c202c18>\n",
      "{'\\ufeffname': 'Thai Basil', 'item': 'Pla Rad Prik', 'cash_price': '10.96', 'credit_price': '', 'popularity': '9', 'options': ''} <google.cloud.firestore_v1.document.DocumentReference object at 0x10c202c88>\n",
      "{'\\ufeffname': 'Thai Basil', 'item': 'Pad Prik King Chicken', 'cash_price': '7.77', 'credit_price': '', 'popularity': '10', 'options': ''} <google.cloud.firestore_v1.document.DocumentReference object at 0x10c202cc0>\n",
      "{'\\ufeffname': 'Imm Thai Street Food', 'item': 'Pad Thai', 'cash_price': '10', 'credit_price': '10', 'popularity': '10', 'options': ''} <google.cloud.firestore_v1.document.DocumentReference object at 0x10c202cf8>\n",
      "{'\\ufeffname': 'Imm Thai Street Food', 'item': 'Pad See Ew', 'cash_price': '10', 'credit_price': '10', 'popularity': '10', 'options': ''} <google.cloud.firestore_v1.document.DocumentReference object at 0x10c202eb8>\n",
      "{'\\ufeffname': 'Imm Thai Street Food', 'item': 'Pad Kee Mao', 'cash_price': '10', 'credit_price': '10', 'popularity': '10', 'options': ''} <google.cloud.firestore_v1.document.DocumentReference object at 0x10c202d30>\n",
      "{'\\ufeffname': 'Imm Thai Street Food', 'item': 'Duck Noodle Soup', 'cash_price': '12', 'credit_price': '12', 'popularity': '8', 'options': ''} <google.cloud.firestore_v1.document.DocumentReference object at 0x10c202c18>\n",
      "{'\\ufeffname': 'Imm Thai Street Food', 'item': 'Green Curry', 'cash_price': '11', 'credit_price': '11', 'popularity': '8', 'options': ''} <google.cloud.firestore_v1.document.DocumentReference object at 0x10c202c88>\n",
      "{'\\ufeffname': 'Imm Thai Street Food', 'item': 'Yellow Curry', 'cash_price': '11', 'credit_price': '11', 'popularity': '8', 'options': ''} <google.cloud.firestore_v1.document.DocumentReference object at 0x10c202cc0>\n",
      "{'\\ufeffname': 'Imm Thai Street Food', 'item': 'Pumpkin Curry', 'cash_price': '11', 'credit_price': '11', 'popularity': '8', 'options': ''} <google.cloud.firestore_v1.document.DocumentReference object at 0x10c202cf8>\n",
      "{'\\ufeffname': 'Imm Thai Street Food', 'item': 'Red Curry', 'cash_price': '11', 'credit_price': '11', 'popularity': '8', 'options': ''} <google.cloud.firestore_v1.document.DocumentReference object at 0x10c202eb8>\n",
      "{'\\ufeffname': 'Imm Thai Street Food', 'item': 'Crispy Pumpkin', 'cash_price': '7', 'credit_price': '7', 'popularity': '3', 'options': ''} <google.cloud.firestore_v1.document.DocumentReference object at 0x10c202d30>\n",
      "{'\\ufeffname': 'Imm Thai Street Food', 'item': 'Sweet Chicken', 'cash_price': '11', 'credit_price': '11', 'popularity': '7', 'options': ''} <google.cloud.firestore_v1.document.DocumentReference object at 0x10c202c18>\n",
      "{'\\ufeffname': 'Imm Thai Street Food', 'item': 'Tom Yum', 'cash_price': '6', 'credit_price': '6', 'popularity': '6', 'options': ''} <google.cloud.firestore_v1.document.DocumentReference object at 0x10c202c88>\n",
      "{'\\ufeffname': 'Brazil Café', 'item': 'Tri tip Sandwich', 'cash_price': '8.25', 'credit_price': '8.25', 'popularity': '10', 'options': ''} <google.cloud.firestore_v1.document.DocumentReference object at 0x10c202e10>\n",
      "{'\\ufeffname': 'Brazil Café', 'item': 'Tri tip Plate', 'cash_price': '9.99', 'credit_price': '9.99', 'popularity': '10', 'options': ''} <google.cloud.firestore_v1.document.DocumentReference object at 0x10c202cf8>\n",
      "{'\\ufeffname': 'Brazil Café', 'item': \"Pedro's Favorite Tri tip Sandwich\", 'cash_price': '8.99', 'credit_price': '8.99', 'popularity': '10', 'options': ''} <google.cloud.firestore_v1.document.DocumentReference object at 0x10c202eb8>\n",
      "{'\\ufeffname': 'Brazil Café', 'item': 'Grilled Chicken', 'cash_price': '8.99', 'credit_price': '8.99', 'popularity': '8', 'options': ''} <google.cloud.firestore_v1.document.DocumentReference object at 0x10c202d68>\n",
      "{'\\ufeffname': 'Brazil Café', 'item': 'Tri tip Salad', 'cash_price': '8.99', 'credit_price': '8.99', 'popularity': '7', 'options': ''} <google.cloud.firestore_v1.document.DocumentReference object at 0x10c202e80>\n",
      "{'\\ufeffname': 'Brazil Café', 'item': 'Spicy Tuna Sandwich', 'cash_price': '7.99', 'credit_price': '7.99', 'popularity': '6', 'options': ''} <google.cloud.firestore_v1.document.DocumentReference object at 0x10c202c50>\n",
      "{'\\ufeffname': 'Fire Wings', 'item': 'Garlic Noodles (Reg)', 'cash_price': '4.99', 'credit_price': '4.99', 'popularity': '4', 'options': ''} <google.cloud.firestore_v1.document.DocumentReference object at 0x10c202e10>\n",
      "{'\\ufeffname': 'Fire Wings', 'item': 'Saigon Street Wings (10)', 'cash_price': '10.99', 'credit_price': '10.99', 'popularity': '7', 'options': ''} <google.cloud.firestore_v1.document.DocumentReference object at 0x10c202cf8>\n",
      "{'\\ufeffname': 'Fire Wings', 'item': 'Salt and Pepper Wings (10', 'cash_price': '10.99', 'credit_price': '10.99', 'popularity': '7', 'options': ''} <google.cloud.firestore_v1.document.DocumentReference object at 0x10c202eb8>\n",
      "{'\\ufeffname': 'Fire Wings', 'item': 'Thai Chili Wings (10)', 'cash_price': '10.99', 'credit_price': '10.99', 'popularity': '7', 'options': ''} <google.cloud.firestore_v1.document.DocumentReference object at 0x10c202d68>\n",
      "{'\\ufeffname': 'Fire Wings', 'item': 'Boneless Wings (10)', 'cash_price': '10.99', 'credit_price': '10.99', 'popularity': '7', 'options': ''} <google.cloud.firestore_v1.document.DocumentReference object at 0x10c202e80>\n",
      "{'\\ufeffname': 'Fire Wings', 'item': 'Malaysian Curry Wings (10)', 'cash_price': '10.99', 'credit_price': '10.99', 'popularity': '7', 'options': ''} <google.cloud.firestore_v1.document.DocumentReference object at 0x10c202c50>\n",
      "{'\\ufeffname': 'Fire Wings', 'item': 'Lousiana Rub Wings (10)', 'cash_price': '10.99', 'credit_price': '10.99', 'popularity': '7', 'options': ''} <google.cloud.firestore_v1.document.DocumentReference object at 0x10c202e10>\n",
      "{'\\ufeffname': 'Fire Wings', 'item': 'Korean Kick Wings (10)', 'cash_price': '10.99', 'credit_price': '10.99', 'popularity': '7', 'options': ''} <google.cloud.firestore_v1.document.DocumentReference object at 0x10c202cf8>\n",
      "{'\\ufeffname': 'Fire Wings', 'item': 'Cali Rub Wings (10)', 'cash_price': '10.99', 'credit_price': '10.99', 'popularity': '7', 'options': ''} <google.cloud.firestore_v1.document.DocumentReference object at 0x10c202eb8>\n",
      "{'\\ufeffname': 'Fire Wings', 'item': 'Original Chicken Sandwich', 'cash_price': '8.99', 'credit_price': '8.99', 'popularity': '7', 'options': ''} <google.cloud.firestore_v1.document.DocumentReference object at 0x10c202d68>\n",
      "{'\\ufeffname': 'Super Duper Burger', 'item': 'Mini Burger', 'cash_price': '5.75', 'credit_price': '5.75', 'popularity': '7', 'options': ''} <google.cloud.firestore_v1.document.DocumentReference object at 0x10c202e80>\n",
      "{'\\ufeffname': 'Super Duper Burger', 'item': 'Super Burger', 'cash_price': '8.25', 'credit_price': '8.25', 'popularity': '8', 'options': ''} <google.cloud.firestore_v1.document.DocumentReference object at 0x10c202c50>\n",
      "{'\\ufeffname': 'Super Duper Burger', 'item': 'Coffee', 'cash_price': '2.5', 'credit_price': '2.5', 'popularity': '2', 'options': ''} <google.cloud.firestore_v1.document.DocumentReference object at 0x10c202e10>\n",
      "{'\\ufeffname': 'Super Duper Burger', 'item': 'Chicken Sandwich', 'cash_price': '8', 'credit_price': '8', 'popularity': '4', 'options': ''} <google.cloud.firestore_v1.document.DocumentReference object at 0x10c202da0>\n",
      "{'\\ufeffname': 'Super Duper Burger', 'item': 'Super Salad', 'cash_price': '6.5', 'credit_price': '6.5', 'popularity': '3', 'options': ''} <google.cloud.firestore_v1.document.DocumentReference object at 0x10c202eb8>\n",
      "{'\\ufeffname': 'Super Duper Burger', 'item': 'Veggie Burger', 'cash_price': '6.75', 'credit_price': '6.75', 'popularity': '2', 'options': ''} <google.cloud.firestore_v1.document.DocumentReference object at 0x10c202d68>\n",
      "{'\\ufeffname': 'Super Duper Burger', 'item': 'French Fries', 'cash_price': '2.75', 'credit_price': '2.75', 'popularity': '5', 'options': ''} <google.cloud.firestore_v1.document.DocumentReference object at 0x10c202c88>\n",
      "{'\\ufeffname': 'Super Duper Burger', 'item': 'Garlic Fries', 'cash_price': '3.5', 'credit_price': '3.5', 'popularity': '7', 'options': ''} <google.cloud.firestore_v1.document.DocumentReference object at 0x10c202c18>\n",
      "{'\\ufeffname': 'Super Duper Burger', 'item': 'Fountain Drink', 'cash_price': '2.5', 'credit_price': '2.5', 'popularity': '2', 'options': ''} <google.cloud.firestore_v1.document.DocumentReference object at 0x10c202be0>\n",
      "{'\\ufeffname': 'Super Duper Burger', 'item': 'Cone', 'cash_price': '4', 'credit_price': '4', 'popularity': '1', 'options': ''} <google.cloud.firestore_v1.document.DocumentReference object at 0x10c202da0>\n",
      "{'\\ufeffname': 'Super Duper Burger', 'item': 'Regular Shake', 'cash_price': '4.75', 'credit_price': '4.75', 'popularity': '2', 'options': ''} <google.cloud.firestore_v1.document.DocumentReference object at 0x10c202e10>\n",
      "{'\\ufeffname': 'KoJa Kitchen', 'item': 'Short Rib Bowl', 'cash_price': '13.19', 'credit_price': '13.19', 'popularity': '8', 'options': ''} <google.cloud.firestore_v1.document.DocumentReference object at 0x10c202d68>\n",
      "{'\\ufeffname': 'KoJa Kitchen', 'item': 'Beef Koja', 'cash_price': '10.59', 'credit_price': '10.59', 'popularity': '8', 'options': ''} <google.cloud.firestore_v1.document.DocumentReference object at 0x10c202c88>\n",
      "{'\\ufeffname': 'KoJa Kitchen', 'item': 'Chicken Koja', 'cash_price': '9.39', 'credit_price': '9.39', 'popularity': '7', 'options': ''} <google.cloud.firestore_v1.document.DocumentReference object at 0x10c202e80>\n",
      "{'\\ufeffname': 'KoJa Kitchen', 'item': 'Braised Pork Koja', 'cash_price': '10.89', 'credit_price': '10.89', 'popularity': '7', 'options': ''} <google.cloud.firestore_v1.document.DocumentReference object at 0x10c202c50>\n",
      "{'\\ufeffname': 'KoJa Kitchen', 'item': 'Braised Pork Bowl', 'cash_price': '12.19', 'credit_price': '12.19', 'popularity': '7', 'options': ''} <google.cloud.firestore_v1.document.DocumentReference object at 0x10c202e48>\n",
      "{'\\ufeffname': 'Mezzo', 'item': 'Veggie Delight', 'cash_price': '10.75', 'credit_price': '10.75', 'popularity': '7', 'options': ''} <google.cloud.firestore_v1.document.DocumentReference object at 0x10c202cf8>\n",
      "{'\\ufeffname': 'Mezzo', 'item': 'Salad Combo', 'cash_price': '11.2', 'credit_price': '11.2', 'popularity': '7', 'options': ''} <google.cloud.firestore_v1.document.DocumentReference object at 0x10c202da0>\n",
      "{'\\ufeffname': 'Mezzo', 'item': 'Marinated Tofu Sandwich', 'cash_price': '10.5', 'credit_price': '10.5', 'popularity': '7', 'options': ''} <google.cloud.firestore_v1.document.DocumentReference object at 0x10c202cf8>\n",
      "{'\\ufeffname': 'Mezzo', 'item': 'Roast Beef Sandwich', 'cash_price': '10.5', 'credit_price': '10.5', 'popularity': '7', 'options': ''} <google.cloud.firestore_v1.document.DocumentReference object at 0x10c202da0>\n",
      "{'\\ufeffname': 'Mezzo', 'item': 'Tossed Green Salad', 'cash_price': '7', 'credit_price': '7', 'popularity': '7', 'options': ''} <google.cloud.firestore_v1.document.DocumentReference object at 0x10c202cf8>\n",
      "{'\\ufeffname': 'Mezzo', 'item': 'Tuna Salad Sandwich', 'cash_price': '10.5', 'credit_price': '10.5', 'popularity': '7', 'options': ''} <google.cloud.firestore_v1.document.DocumentReference object at 0x10c202da0>\n",
      "{'\\ufeffname': 'Mezzo', 'item': 'Vegan Chili Soup', 'cash_price': '7.5', 'credit_price': '7.5', 'popularity': '7', 'options': ''} <google.cloud.firestore_v1.document.DocumentReference object at 0x10c202cf8>\n",
      "{'\\ufeffname': 'Top Dog', 'item': 'Top Dog Frankfurter', 'cash_price': '3.75', 'credit_price': '', 'popularity': '9', 'options': ''} <google.cloud.firestore_v1.document.DocumentReference object at 0x10c202da0>\n",
      "{'\\ufeffname': 'Top Dog', 'item': 'Garlic Frankfurter', 'cash_price': '3.75', 'credit_price': '', 'popularity': '8', 'options': ''} <google.cloud.firestore_v1.document.DocumentReference object at 0x10c202cf8>\n",
      "{'\\ufeffname': 'Top Dog', 'item': 'Bockwurst (German)', 'cash_price': '3.75', 'credit_price': '', 'popularity': '7', 'options': ''} <google.cloud.firestore_v1.document.DocumentReference object at 0x10c202da0>\n",
      "{'\\ufeffname': 'Top Dog', 'item': 'Kielbasa (Polish)', 'cash_price': '3.75', 'credit_price': '', 'popularity': '6', 'options': ''} <google.cloud.firestore_v1.document.DocumentReference object at 0x10c202cf8>\n",
      "{'\\ufeffname': 'Top Dog', 'item': 'Calabrese (Italian)', 'cash_price': '3.75', 'credit_price': '', 'popularity': '7', 'options': ''} <google.cloud.firestore_v1.document.DocumentReference object at 0x10c202da0>\n",
      "{'\\ufeffname': 'Top Dog', 'item': 'Hot Link (Louisiana Style)', 'cash_price': '3.75', 'credit_price': '', 'popularity': '9', 'options': ''} <google.cloud.firestore_v1.document.DocumentReference object at 0x10c202cf8>\n",
      "{'\\ufeffname': 'Top Dog', 'item': 'Smoked Chicken Apple', 'cash_price': '3.75', 'credit_price': '', 'popularity': '8', 'options': ''} <google.cloud.firestore_v1.document.DocumentReference object at 0x10c202da0>\n",
      "{'\\ufeffname': 'Top Dog', 'item': 'The Wienie (Veggie Dog)', 'cash_price': '3.75', 'credit_price': '', 'popularity': '5', 'options': ''} <google.cloud.firestore_v1.document.DocumentReference object at 0x10c202cf8>\n",
      "{'\\ufeffname': 'Top Dog', 'item': 'Lemon Chicken ', 'cash_price': '4', 'credit_price': '', 'popularity': '8', 'options': ''} <google.cloud.firestore_v1.document.DocumentReference object at 0x10c202da0>\n",
      "{'\\ufeffname': 'Top Dog', 'item': 'Bratwurst (German)', 'cash_price': '4', 'credit_price': '', 'popularity': '5', 'options': ''} <google.cloud.firestore_v1.document.DocumentReference object at 0x10c202cf8>\n",
      "{'\\ufeffname': 'Top Dog', 'item': 'Potato Salad', 'cash_price': '2', 'credit_price': '', 'popularity': '5', 'options': ''} <google.cloud.firestore_v1.document.DocumentReference object at 0x10c202da0>\n",
      "{'\\ufeffname': 'Chipotle', 'item': 'Chicken Bowl', 'cash_price': '7.9', 'credit_price': '7.9', 'popularity': '9', 'options': ''} <google.cloud.firestore_v1.document.DocumentReference object at 0x10c202e48>\n",
      "{'\\ufeffname': 'Chipotle', 'item': 'Chicken Burrito', 'cash_price': '7.9', 'credit_price': '7.9', 'popularity': '9', 'options': ''} <google.cloud.firestore_v1.document.DocumentReference object at 0x10c202cf8>\n",
      "{'\\ufeffname': 'Chipotle', 'item': 'Steak Bowl', 'cash_price': '8.9', 'credit_price': '8.9', 'popularity': '9', 'options': ''} <google.cloud.firestore_v1.document.DocumentReference object at 0x10c202eb8>\n",
      "{'\\ufeffname': 'Chipotle', 'item': 'Steak Burrito', 'cash_price': '8.9', 'credit_price': '8.9', 'popularity': '9', 'options': ''} <google.cloud.firestore_v1.document.DocumentReference object at 0x10c202d30>\n",
      "{'\\ufeffname': 'Chipotle', 'item': 'Veggie Bowl', 'cash_price': '7.9', 'credit_price': '7.9', 'popularity': '7', 'options': ''} <google.cloud.firestore_v1.document.DocumentReference object at 0x10c202e80>\n",
      "{'\\ufeffname': 'Chipotle', 'item': 'Veggie Burrito', 'cash_price': '7.9', 'credit_price': '7.9', 'popularity': '7', 'options': ''} <google.cloud.firestore_v1.document.DocumentReference object at 0x10c202c50>\n"
     ]
    },
    {
     "name": "stdout",
     "output_type": "stream",
     "text": [
      "Done\n"
     ]
    }
   ],
   "source": [
    "main()"
   ]
  },
  {
   "cell_type": "code",
   "execution_count": 150,
   "metadata": {},
   "outputs": [
    {
     "name": "stdout",
     "output_type": "stream",
     "text": [
      "Document data: None\n"
     ]
    }
   ],
   "source": [
    "doc_ref = db.collection('restaurants').document('Chipotle')\n",
    "\n",
    "try:\n",
    "    doc = doc_ref.get()\n",
    "    print(u'Document data: {}'.format(doc.to_dict()))\n",
    "except google.cloud.exceptions.NotFound:\n",
    "    print(u'No such document!')\n"
   ]
  },
  {
   "cell_type": "code",
   "execution_count": 147,
   "metadata": {},
   "outputs": [],
   "source": [
    "users_ref = db.collection('restaurants')\n",
    "docs = users_ref.stream()\n",
    "\n",
    "for doc in docs:\n",
    "    print(u'{} => {}'.format(doc.id, doc.to_dict()))"
   ]
  },
  {
   "cell_type": "code",
   "execution_count": 151,
   "metadata": {},
   "outputs": [
    {
     "ename": "DefaultCredentialsError",
     "evalue": "File \"/Users/nathanwong/Desktop/FoodCampus-f38ced1dcb50.json\" was not found.",
     "output_type": "error",
     "traceback": [
      "\u001b[0;31m---------------------------------------------------------------------------\u001b[0m",
      "\u001b[0;31mDefaultCredentialsError\u001b[0m                   Traceback (most recent call last)",
      "\u001b[0;32m<ipython-input-151-3a606b269f98>\u001b[0m in \u001b[0;36m<module>\u001b[0;34m\u001b[0m\n\u001b[0;32m----> 1\u001b[0;31m \u001b[0mdb\u001b[0m \u001b[0;34m=\u001b[0m \u001b[0mfirestore\u001b[0m\u001b[0;34m.\u001b[0m\u001b[0mClient\u001b[0m\u001b[0;34m(\u001b[0m\u001b[0;34m)\u001b[0m\u001b[0;34m\u001b[0m\u001b[0m\n\u001b[0m",
      "\u001b[0;32m~/Downloads/yes/envs/nathan/lib/python3.7/site-packages/google/cloud/firestore_v1/client.py\u001b[0m in \u001b[0;36m__init__\u001b[0;34m(self, project, credentials, database, client_info, client_options)\u001b[0m\n\u001b[1;32m    108\u001b[0m         \u001b[0;31m#       creates a working HTTP object.\u001b[0m\u001b[0;34m\u001b[0m\u001b[0;34m\u001b[0m\u001b[0m\n\u001b[1;32m    109\u001b[0m         super(Client, self).__init__(\n\u001b[0;32m--> 110\u001b[0;31m             \u001b[0mproject\u001b[0m\u001b[0;34m=\u001b[0m\u001b[0mproject\u001b[0m\u001b[0;34m,\u001b[0m \u001b[0mcredentials\u001b[0m\u001b[0;34m=\u001b[0m\u001b[0mcredentials\u001b[0m\u001b[0;34m,\u001b[0m \u001b[0m_http\u001b[0m\u001b[0;34m=\u001b[0m\u001b[0;32mNone\u001b[0m\u001b[0;34m\u001b[0m\u001b[0m\n\u001b[0m\u001b[1;32m    111\u001b[0m         )\n\u001b[1;32m    112\u001b[0m         \u001b[0mself\u001b[0m\u001b[0;34m.\u001b[0m\u001b[0m_client_info\u001b[0m \u001b[0;34m=\u001b[0m \u001b[0mclient_info\u001b[0m\u001b[0;34m\u001b[0m\u001b[0m\n",
      "\u001b[0;32m~/Downloads/yes/envs/nathan/lib/python3.7/site-packages/google/cloud/client.py\u001b[0m in \u001b[0;36m__init__\u001b[0;34m(self, project, credentials, _http)\u001b[0m\n\u001b[1;32m    224\u001b[0m \u001b[0;34m\u001b[0m\u001b[0m\n\u001b[1;32m    225\u001b[0m     \u001b[0;32mdef\u001b[0m \u001b[0m__init__\u001b[0m\u001b[0;34m(\u001b[0m\u001b[0mself\u001b[0m\u001b[0;34m,\u001b[0m \u001b[0mproject\u001b[0m\u001b[0;34m=\u001b[0m\u001b[0;32mNone\u001b[0m\u001b[0;34m,\u001b[0m \u001b[0mcredentials\u001b[0m\u001b[0;34m=\u001b[0m\u001b[0;32mNone\u001b[0m\u001b[0;34m,\u001b[0m \u001b[0m_http\u001b[0m\u001b[0;34m=\u001b[0m\u001b[0;32mNone\u001b[0m\u001b[0;34m)\u001b[0m\u001b[0;34m:\u001b[0m\u001b[0;34m\u001b[0m\u001b[0m\n\u001b[0;32m--> 226\u001b[0;31m         \u001b[0m_ClientProjectMixin\u001b[0m\u001b[0;34m.\u001b[0m\u001b[0m__init__\u001b[0m\u001b[0;34m(\u001b[0m\u001b[0mself\u001b[0m\u001b[0;34m,\u001b[0m \u001b[0mproject\u001b[0m\u001b[0;34m=\u001b[0m\u001b[0mproject\u001b[0m\u001b[0;34m)\u001b[0m\u001b[0;34m\u001b[0m\u001b[0m\n\u001b[0m\u001b[1;32m    227\u001b[0m         \u001b[0mClient\u001b[0m\u001b[0;34m.\u001b[0m\u001b[0m__init__\u001b[0m\u001b[0;34m(\u001b[0m\u001b[0mself\u001b[0m\u001b[0;34m,\u001b[0m \u001b[0mcredentials\u001b[0m\u001b[0;34m=\u001b[0m\u001b[0mcredentials\u001b[0m\u001b[0;34m,\u001b[0m \u001b[0m_http\u001b[0m\u001b[0;34m=\u001b[0m\u001b[0m_http\u001b[0m\u001b[0;34m)\u001b[0m\u001b[0;34m\u001b[0m\u001b[0m\n",
      "\u001b[0;32m~/Downloads/yes/envs/nathan/lib/python3.7/site-packages/google/cloud/client.py\u001b[0m in \u001b[0;36m__init__\u001b[0;34m(self, project)\u001b[0m\n\u001b[1;32m    176\u001b[0m \u001b[0;34m\u001b[0m\u001b[0m\n\u001b[1;32m    177\u001b[0m     \u001b[0;32mdef\u001b[0m \u001b[0m__init__\u001b[0m\u001b[0;34m(\u001b[0m\u001b[0mself\u001b[0m\u001b[0;34m,\u001b[0m \u001b[0mproject\u001b[0m\u001b[0;34m=\u001b[0m\u001b[0;32mNone\u001b[0m\u001b[0;34m)\u001b[0m\u001b[0;34m:\u001b[0m\u001b[0;34m\u001b[0m\u001b[0m\n\u001b[0;32m--> 178\u001b[0;31m         \u001b[0mproject\u001b[0m \u001b[0;34m=\u001b[0m \u001b[0mself\u001b[0m\u001b[0;34m.\u001b[0m\u001b[0m_determine_default\u001b[0m\u001b[0;34m(\u001b[0m\u001b[0mproject\u001b[0m\u001b[0;34m)\u001b[0m\u001b[0;34m\u001b[0m\u001b[0m\n\u001b[0m\u001b[1;32m    179\u001b[0m         \u001b[0;32mif\u001b[0m \u001b[0mproject\u001b[0m \u001b[0;32mis\u001b[0m \u001b[0;32mNone\u001b[0m\u001b[0;34m:\u001b[0m\u001b[0;34m\u001b[0m\u001b[0m\n\u001b[1;32m    180\u001b[0m             raise EnvironmentError(\n",
      "\u001b[0;32m~/Downloads/yes/envs/nathan/lib/python3.7/site-packages/google/cloud/client.py\u001b[0m in \u001b[0;36m_determine_default\u001b[0;34m(project)\u001b[0m\n\u001b[1;32m    191\u001b[0m     \u001b[0;32mdef\u001b[0m \u001b[0m_determine_default\u001b[0m\u001b[0;34m(\u001b[0m\u001b[0mproject\u001b[0m\u001b[0;34m)\u001b[0m\u001b[0;34m:\u001b[0m\u001b[0;34m\u001b[0m\u001b[0m\n\u001b[1;32m    192\u001b[0m         \u001b[0;34m\"\"\"Helper:  use default project detection.\"\"\"\u001b[0m\u001b[0;34m\u001b[0m\u001b[0m\n\u001b[0;32m--> 193\u001b[0;31m         \u001b[0;32mreturn\u001b[0m \u001b[0m_determine_default_project\u001b[0m\u001b[0;34m(\u001b[0m\u001b[0mproject\u001b[0m\u001b[0;34m)\u001b[0m\u001b[0;34m\u001b[0m\u001b[0m\n\u001b[0m\u001b[1;32m    194\u001b[0m \u001b[0;34m\u001b[0m\u001b[0m\n\u001b[1;32m    195\u001b[0m \u001b[0;34m\u001b[0m\u001b[0m\n",
      "\u001b[0;32m~/Downloads/yes/envs/nathan/lib/python3.7/site-packages/google/cloud/_helpers.py\u001b[0m in \u001b[0;36m_determine_default_project\u001b[0;34m(project)\u001b[0m\n\u001b[1;32m    184\u001b[0m     \"\"\"\n\u001b[1;32m    185\u001b[0m     \u001b[0;32mif\u001b[0m \u001b[0mproject\u001b[0m \u001b[0;32mis\u001b[0m \u001b[0;32mNone\u001b[0m\u001b[0;34m:\u001b[0m\u001b[0;34m\u001b[0m\u001b[0m\n\u001b[0;32m--> 186\u001b[0;31m         \u001b[0m_\u001b[0m\u001b[0;34m,\u001b[0m \u001b[0mproject\u001b[0m \u001b[0;34m=\u001b[0m \u001b[0mgoogle\u001b[0m\u001b[0;34m.\u001b[0m\u001b[0mauth\u001b[0m\u001b[0;34m.\u001b[0m\u001b[0mdefault\u001b[0m\u001b[0;34m(\u001b[0m\u001b[0;34m)\u001b[0m\u001b[0;34m\u001b[0m\u001b[0m\n\u001b[0m\u001b[1;32m    187\u001b[0m     \u001b[0;32mreturn\u001b[0m \u001b[0mproject\u001b[0m\u001b[0;34m\u001b[0m\u001b[0m\n\u001b[1;32m    188\u001b[0m \u001b[0;34m\u001b[0m\u001b[0m\n",
      "\u001b[0;32m~/Downloads/yes/envs/nathan/lib/python3.7/site-packages/google/auth/_default.py\u001b[0m in \u001b[0;36mdefault\u001b[0;34m(scopes, request)\u001b[0m\n\u001b[1;32m    292\u001b[0m     \u001b[0;32mfrom\u001b[0m \u001b[0mgoogle\u001b[0m\u001b[0;34m.\u001b[0m\u001b[0mauth\u001b[0m\u001b[0;34m.\u001b[0m\u001b[0mcredentials\u001b[0m \u001b[0;32mimport\u001b[0m \u001b[0mwith_scopes_if_required\u001b[0m\u001b[0;34m\u001b[0m\u001b[0m\n\u001b[1;32m    293\u001b[0m \u001b[0;34m\u001b[0m\u001b[0m\n\u001b[0;32m--> 294\u001b[0;31m     explicit_project_id = os.environ.get(\n\u001b[0m\u001b[1;32m    295\u001b[0m         \u001b[0menvironment_vars\u001b[0m\u001b[0;34m.\u001b[0m\u001b[0mPROJECT\u001b[0m\u001b[0;34m,\u001b[0m\u001b[0;34m\u001b[0m\u001b[0m\n\u001b[1;32m    296\u001b[0m         os.environ.get(environment_vars.LEGACY_PROJECT))\n",
      "\u001b[0;32m~/Downloads/yes/envs/nathan/lib/python3.7/site-packages/google/auth/_default.py\u001b[0m in \u001b[0;36m_get_explicit_environ_credentials\u001b[0;34m()\u001b[0m\n\u001b[1;32m    163\u001b[0m     \u001b[0;32mif\u001b[0m \u001b[0mexplicit_file\u001b[0m \u001b[0;32mis\u001b[0m \u001b[0;32mnot\u001b[0m \u001b[0;32mNone\u001b[0m\u001b[0;34m:\u001b[0m\u001b[0;34m\u001b[0m\u001b[0m\n\u001b[1;32m    164\u001b[0m         credentials, project_id = _load_credentials_from_file(\n\u001b[0;32m--> 165\u001b[0;31m             os.environ[environment_vars.CREDENTIALS])\n\u001b[0m\u001b[1;32m    166\u001b[0m \u001b[0;34m\u001b[0m\u001b[0m\n\u001b[1;32m    167\u001b[0m         \u001b[0;32mreturn\u001b[0m \u001b[0mcredentials\u001b[0m\u001b[0;34m,\u001b[0m \u001b[0mproject_id\u001b[0m\u001b[0;34m\u001b[0m\u001b[0m\n",
      "\u001b[0;32m~/Downloads/yes/envs/nathan/lib/python3.7/site-packages/google/auth/_default.py\u001b[0m in \u001b[0;36m_load_credentials_from_file\u001b[0;34m(filename)\u001b[0m\n\u001b[1;32m     87\u001b[0m     \u001b[0;32mif\u001b[0m \u001b[0;32mnot\u001b[0m \u001b[0mos\u001b[0m\u001b[0;34m.\u001b[0m\u001b[0mpath\u001b[0m\u001b[0;34m.\u001b[0m\u001b[0mexists\u001b[0m\u001b[0;34m(\u001b[0m\u001b[0mfilename\u001b[0m\u001b[0;34m)\u001b[0m\u001b[0;34m:\u001b[0m\u001b[0;34m\u001b[0m\u001b[0m\n\u001b[1;32m     88\u001b[0m         raise exceptions.DefaultCredentialsError(\n\u001b[0;32m---> 89\u001b[0;31m             'File {} was not found.'.format(filename))\n\u001b[0m\u001b[1;32m     90\u001b[0m \u001b[0;34m\u001b[0m\u001b[0m\n\u001b[1;32m     91\u001b[0m     \u001b[0;32mwith\u001b[0m \u001b[0mio\u001b[0m\u001b[0;34m.\u001b[0m\u001b[0mopen\u001b[0m\u001b[0;34m(\u001b[0m\u001b[0mfilename\u001b[0m\u001b[0;34m,\u001b[0m \u001b[0;34m'r'\u001b[0m\u001b[0;34m)\u001b[0m \u001b[0;32mas\u001b[0m \u001b[0mfile_obj\u001b[0m\u001b[0;34m:\u001b[0m\u001b[0;34m\u001b[0m\u001b[0m\n",
      "\u001b[0;31mDefaultCredentialsError\u001b[0m: File \"/Users/nathanwong/Desktop/FoodCampus-f38ced1dcb50.json\" was not found."
     ]
    }
   ],
   "source": [
    "db = firestore.client()"
   ]
  },
  {
   "cell_type": "code",
   "execution_count": 138,
   "metadata": {},
   "outputs": [],
   "source": [
    "a_lovelace_ref = db.document(u'restaurants/Chipotle')"
   ]
  },
  {
   "cell_type": "code",
   "execution_count": 144,
   "metadata": {},
   "outputs": [],
   "source": [
    "a_lovelace_ref.get().to_dict()"
   ]
  },
  {
   "cell_type": "code",
   "execution_count": null,
   "metadata": {},
   "outputs": [],
   "source": []
  }
 ],
 "metadata": {
  "kernelspec": {
   "display_name": "Python 3",
   "language": "python",
   "name": "python3"
  },
  "language_info": {
   "codemirror_mode": {
    "name": "ipython",
    "version": 3
   },
   "file_extension": ".py",
   "mimetype": "text/x-python",
   "name": "python",
   "nbconvert_exporter": "python",
   "pygments_lexer": "ipython3",
   "version": "3.7.0"
  }
 },
 "nbformat": 4,
 "nbformat_minor": 2
}
